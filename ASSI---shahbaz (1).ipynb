{
 "cells": [
  {
   "cell_type": "code",
   "execution_count": 294,
   "metadata": {},
   "outputs": [],
   "source": [
    "cols = ['age', 'workclass', 'education',  'wage_per_hours',  'marital_status',\n",
    "       'major occupation code', 'race', 'sex', 'capital_gain', 'capital_loss',\n",
    "       'country','income']\n",
    "target = 'income'"
   ]
  },
  {
   "cell_type": "code",
   "execution_count": null,
   "metadata": {},
   "outputs": [],
   "source": []
  },
  {
   "cell_type": "code",
   "execution_count": 295,
   "metadata": {},
   "outputs": [],
   "source": [
    "\n",
    "import pandas as pd\n",
    "import numpy as np\n",
    "\n",
    "data = pd.read_csv('census-income.data', header=None)"
   ]
  },
  {
   "cell_type": "code",
   "execution_count": 296,
   "metadata": {},
   "outputs": [],
   "source": [
    "\n",
    "test = pd.read_csv('census-income.test', header=None)"
   ]
  },
  {
   "cell_type": "code",
   "execution_count": 297,
   "metadata": {},
   "outputs": [
    {
     "data": {
      "text/plain": [
       "array([' - 50000.', ' 50000+.'], dtype=object)"
      ]
     },
     "execution_count": 297,
     "metadata": {},
     "output_type": "execute_result"
    }
   ],
   "source": [
    "np.unique(data.iloc[:,41:42])\n",
    "             "
   ]
  },
  {
   "cell_type": "code",
   "execution_count": null,
   "metadata": {},
   "outputs": [],
   "source": []
  },
  {
   "cell_type": "code",
   "execution_count": null,
   "metadata": {},
   "outputs": [],
   "source": []
  },
  {
   "cell_type": "code",
   "execution_count": 298,
   "metadata": {},
   "outputs": [],
   "source": [
    "d=pd.concat([data.iloc[:,:1],data.iloc[:,1:2],data.iloc[:,4:5],data.iloc[:,5:6],data.iloc[:,7:8],data.iloc[:,9:10],data.iloc[:,10:11],data.iloc[:,12:13],data.iloc[:,16:17],data.iloc[:,17:18],data.iloc[:,34:35],data.iloc[:,41:42]],axis=1)"
   ]
  },
  {
   "cell_type": "code",
   "execution_count": 299,
   "metadata": {},
   "outputs": [],
   "source": [
    "t1=pd.concat([test.iloc[:,:1],test.iloc[:,1:2],test.iloc[:,4:5],test.iloc[:,5:6],test.iloc[:,7:8],test.iloc[:,9:10],test.iloc[:,10:11],test.iloc[:,12:13],test.iloc[:,16:17],test.iloc[:,17:18],test.iloc[:,34:35],test.iloc[:,41:42]],axis=1)"
   ]
  },
  {
   "cell_type": "code",
   "execution_count": 300,
   "metadata": {},
   "outputs": [
    {
     "data": {
      "text/html": [
       "<div>\n",
       "<style scoped>\n",
       "    .dataframe tbody tr th:only-of-type {\n",
       "        vertical-align: middle;\n",
       "    }\n",
       "\n",
       "    .dataframe tbody tr th {\n",
       "        vertical-align: top;\n",
       "    }\n",
       "\n",
       "    .dataframe thead th {\n",
       "        text-align: right;\n",
       "    }\n",
       "</style>\n",
       "<table border=\"1\" class=\"dataframe\">\n",
       "  <thead>\n",
       "    <tr style=\"text-align: right;\">\n",
       "      <th></th>\n",
       "      <th>0</th>\n",
       "      <th>1</th>\n",
       "      <th>4</th>\n",
       "      <th>5</th>\n",
       "      <th>7</th>\n",
       "      <th>9</th>\n",
       "      <th>10</th>\n",
       "      <th>12</th>\n",
       "      <th>16</th>\n",
       "      <th>17</th>\n",
       "      <th>34</th>\n",
       "      <th>41</th>\n",
       "    </tr>\n",
       "  </thead>\n",
       "  <tbody>\n",
       "    <tr>\n",
       "      <th>0</th>\n",
       "      <td>73</td>\n",
       "      <td>Not in universe</td>\n",
       "      <td>High school graduate</td>\n",
       "      <td>0</td>\n",
       "      <td>Widowed</td>\n",
       "      <td>Not in universe</td>\n",
       "      <td>White</td>\n",
       "      <td>Female</td>\n",
       "      <td>0</td>\n",
       "      <td>0</td>\n",
       "      <td>United-States</td>\n",
       "      <td>- 50000.</td>\n",
       "    </tr>\n",
       "    <tr>\n",
       "      <th>1</th>\n",
       "      <td>58</td>\n",
       "      <td>Self-employed-not incorporated</td>\n",
       "      <td>Some college but no degree</td>\n",
       "      <td>0</td>\n",
       "      <td>Divorced</td>\n",
       "      <td>Precision production craft &amp; repair</td>\n",
       "      <td>White</td>\n",
       "      <td>Male</td>\n",
       "      <td>0</td>\n",
       "      <td>0</td>\n",
       "      <td>United-States</td>\n",
       "      <td>- 50000.</td>\n",
       "    </tr>\n",
       "    <tr>\n",
       "      <th>2</th>\n",
       "      <td>18</td>\n",
       "      <td>Not in universe</td>\n",
       "      <td>10th grade</td>\n",
       "      <td>0</td>\n",
       "      <td>Never married</td>\n",
       "      <td>Not in universe</td>\n",
       "      <td>Asian or Pacific Islander</td>\n",
       "      <td>Female</td>\n",
       "      <td>0</td>\n",
       "      <td>0</td>\n",
       "      <td>Vietnam</td>\n",
       "      <td>- 50000.</td>\n",
       "    </tr>\n",
       "    <tr>\n",
       "      <th>3</th>\n",
       "      <td>9</td>\n",
       "      <td>Not in universe</td>\n",
       "      <td>Children</td>\n",
       "      <td>0</td>\n",
       "      <td>Never married</td>\n",
       "      <td>Not in universe</td>\n",
       "      <td>White</td>\n",
       "      <td>Female</td>\n",
       "      <td>0</td>\n",
       "      <td>0</td>\n",
       "      <td>United-States</td>\n",
       "      <td>- 50000.</td>\n",
       "    </tr>\n",
       "    <tr>\n",
       "      <th>4</th>\n",
       "      <td>10</td>\n",
       "      <td>Not in universe</td>\n",
       "      <td>Children</td>\n",
       "      <td>0</td>\n",
       "      <td>Never married</td>\n",
       "      <td>Not in universe</td>\n",
       "      <td>White</td>\n",
       "      <td>Female</td>\n",
       "      <td>0</td>\n",
       "      <td>0</td>\n",
       "      <td>United-States</td>\n",
       "      <td>- 50000.</td>\n",
       "    </tr>\n",
       "    <tr>\n",
       "      <th>...</th>\n",
       "      <td>...</td>\n",
       "      <td>...</td>\n",
       "      <td>...</td>\n",
       "      <td>...</td>\n",
       "      <td>...</td>\n",
       "      <td>...</td>\n",
       "      <td>...</td>\n",
       "      <td>...</td>\n",
       "      <td>...</td>\n",
       "      <td>...</td>\n",
       "      <td>...</td>\n",
       "      <td>...</td>\n",
       "    </tr>\n",
       "    <tr>\n",
       "      <th>199518</th>\n",
       "      <td>87</td>\n",
       "      <td>Not in universe</td>\n",
       "      <td>7th and 8th grade</td>\n",
       "      <td>0</td>\n",
       "      <td>Married-civilian spouse present</td>\n",
       "      <td>Not in universe</td>\n",
       "      <td>White</td>\n",
       "      <td>Male</td>\n",
       "      <td>0</td>\n",
       "      <td>0</td>\n",
       "      <td>United-States</td>\n",
       "      <td>- 50000.</td>\n",
       "    </tr>\n",
       "    <tr>\n",
       "      <th>199519</th>\n",
       "      <td>65</td>\n",
       "      <td>Self-employed-incorporated</td>\n",
       "      <td>11th grade</td>\n",
       "      <td>0</td>\n",
       "      <td>Married-civilian spouse present</td>\n",
       "      <td>Executive admin and managerial</td>\n",
       "      <td>White</td>\n",
       "      <td>Male</td>\n",
       "      <td>6418</td>\n",
       "      <td>0</td>\n",
       "      <td>United-States</td>\n",
       "      <td>- 50000.</td>\n",
       "    </tr>\n",
       "    <tr>\n",
       "      <th>199520</th>\n",
       "      <td>47</td>\n",
       "      <td>Not in universe</td>\n",
       "      <td>Some college but no degree</td>\n",
       "      <td>0</td>\n",
       "      <td>Married-civilian spouse present</td>\n",
       "      <td>Not in universe</td>\n",
       "      <td>White</td>\n",
       "      <td>Male</td>\n",
       "      <td>0</td>\n",
       "      <td>0</td>\n",
       "      <td>Germany</td>\n",
       "      <td>- 50000.</td>\n",
       "    </tr>\n",
       "    <tr>\n",
       "      <th>199521</th>\n",
       "      <td>16</td>\n",
       "      <td>Not in universe</td>\n",
       "      <td>10th grade</td>\n",
       "      <td>0</td>\n",
       "      <td>Never married</td>\n",
       "      <td>Not in universe</td>\n",
       "      <td>White</td>\n",
       "      <td>Female</td>\n",
       "      <td>0</td>\n",
       "      <td>0</td>\n",
       "      <td>United-States</td>\n",
       "      <td>- 50000.</td>\n",
       "    </tr>\n",
       "    <tr>\n",
       "      <th>199522</th>\n",
       "      <td>32</td>\n",
       "      <td>Private</td>\n",
       "      <td>High school graduate</td>\n",
       "      <td>0</td>\n",
       "      <td>Never married</td>\n",
       "      <td>Other service</td>\n",
       "      <td>Black</td>\n",
       "      <td>Female</td>\n",
       "      <td>0</td>\n",
       "      <td>0</td>\n",
       "      <td>?</td>\n",
       "      <td>- 50000.</td>\n",
       "    </tr>\n",
       "  </tbody>\n",
       "</table>\n",
       "<p>199523 rows × 12 columns</p>\n",
       "</div>"
      ],
      "text/plain": [
       "        0                                1                            4   5   \\\n",
       "0       73                  Not in universe         High school graduate   0   \n",
       "1       58   Self-employed-not incorporated   Some college but no degree   0   \n",
       "2       18                  Not in universe                   10th grade   0   \n",
       "3        9                  Not in universe                     Children   0   \n",
       "4       10                  Not in universe                     Children   0   \n",
       "...     ..                              ...                          ...  ..   \n",
       "199518  87                  Not in universe            7th and 8th grade   0   \n",
       "199519  65       Self-employed-incorporated                   11th grade   0   \n",
       "199520  47                  Not in universe   Some college but no degree   0   \n",
       "199521  16                  Not in universe                   10th grade   0   \n",
       "199522  32                          Private         High school graduate   0   \n",
       "\n",
       "                                      7   \\\n",
       "0                                Widowed   \n",
       "1                               Divorced   \n",
       "2                          Never married   \n",
       "3                          Never married   \n",
       "4                          Never married   \n",
       "...                                  ...   \n",
       "199518   Married-civilian spouse present   \n",
       "199519   Married-civilian spouse present   \n",
       "199520   Married-civilian spouse present   \n",
       "199521                     Never married   \n",
       "199522                     Never married   \n",
       "\n",
       "                                          9                           10  \\\n",
       "0                            Not in universe                       White   \n",
       "1        Precision production craft & repair                       White   \n",
       "2                            Not in universe   Asian or Pacific Islander   \n",
       "3                            Not in universe                       White   \n",
       "4                            Not in universe                       White   \n",
       "...                                      ...                         ...   \n",
       "199518                       Not in universe                       White   \n",
       "199519        Executive admin and managerial                       White   \n",
       "199520                       Not in universe                       White   \n",
       "199521                       Not in universe                       White   \n",
       "199522                         Other service                       Black   \n",
       "\n",
       "             12    16  17              34         41  \n",
       "0        Female     0   0   United-States   - 50000.  \n",
       "1          Male     0   0   United-States   - 50000.  \n",
       "2        Female     0   0         Vietnam   - 50000.  \n",
       "3        Female     0   0   United-States   - 50000.  \n",
       "4        Female     0   0   United-States   - 50000.  \n",
       "...         ...   ...  ..             ...        ...  \n",
       "199518     Male     0   0   United-States   - 50000.  \n",
       "199519     Male  6418   0   United-States   - 50000.  \n",
       "199520     Male     0   0         Germany   - 50000.  \n",
       "199521   Female     0   0   United-States   - 50000.  \n",
       "199522   Female     0   0               ?   - 50000.  \n",
       "\n",
       "[199523 rows x 12 columns]"
      ]
     },
     "execution_count": 300,
     "metadata": {},
     "output_type": "execute_result"
    }
   ],
   "source": [
    "d"
   ]
  },
  {
   "cell_type": "code",
   "execution_count": 301,
   "metadata": {},
   "outputs": [
    {
     "data": {
      "text/plain": [
       "Int64Index([0, 1, 4, 5, 7, 9, 10, 12, 16, 17, 34, 41], dtype='int64')"
      ]
     },
     "execution_count": 301,
     "metadata": {},
     "output_type": "execute_result"
    }
   ],
   "source": [
    "d.columns\n"
   ]
  },
  {
   "cell_type": "code",
   "execution_count": 302,
   "metadata": {},
   "outputs": [],
   "source": [
    "d.columns=cols "
   ]
  },
  {
   "cell_type": "code",
   "execution_count": 303,
   "metadata": {},
   "outputs": [],
   "source": [
    "t1.columns=cols"
   ]
  },
  {
   "cell_type": "code",
   "execution_count": 304,
   "metadata": {},
   "outputs": [
    {
     "data": {
      "text/html": [
       "<div>\n",
       "<style scoped>\n",
       "    .dataframe tbody tr th:only-of-type {\n",
       "        vertical-align: middle;\n",
       "    }\n",
       "\n",
       "    .dataframe tbody tr th {\n",
       "        vertical-align: top;\n",
       "    }\n",
       "\n",
       "    .dataframe thead th {\n",
       "        text-align: right;\n",
       "    }\n",
       "</style>\n",
       "<table border=\"1\" class=\"dataframe\">\n",
       "  <thead>\n",
       "    <tr style=\"text-align: right;\">\n",
       "      <th></th>\n",
       "      <th>age</th>\n",
       "      <th>workclass</th>\n",
       "      <th>education</th>\n",
       "      <th>wage_per_hours</th>\n",
       "      <th>marital_status</th>\n",
       "      <th>major occupation code</th>\n",
       "      <th>race</th>\n",
       "      <th>sex</th>\n",
       "      <th>capital_gain</th>\n",
       "      <th>capital_loss</th>\n",
       "      <th>country</th>\n",
       "      <th>income</th>\n",
       "    </tr>\n",
       "  </thead>\n",
       "  <tbody>\n",
       "    <tr>\n",
       "      <th>0</th>\n",
       "      <td>38</td>\n",
       "      <td>Private</td>\n",
       "      <td>1st 2nd 3rd or 4th grade</td>\n",
       "      <td>0</td>\n",
       "      <td>Married-civilian spouse present</td>\n",
       "      <td>Machine operators assmblrs &amp; inspctrs</td>\n",
       "      <td>White</td>\n",
       "      <td>Female</td>\n",
       "      <td>0</td>\n",
       "      <td>0</td>\n",
       "      <td>Mexico</td>\n",
       "      <td>- 50000.</td>\n",
       "    </tr>\n",
       "    <tr>\n",
       "      <th>1</th>\n",
       "      <td>44</td>\n",
       "      <td>Self-employed-not incorporated</td>\n",
       "      <td>Associates degree-occup /vocational</td>\n",
       "      <td>0</td>\n",
       "      <td>Married-civilian spouse present</td>\n",
       "      <td>Professional specialty</td>\n",
       "      <td>White</td>\n",
       "      <td>Female</td>\n",
       "      <td>0</td>\n",
       "      <td>0</td>\n",
       "      <td>United-States</td>\n",
       "      <td>- 50000.</td>\n",
       "    </tr>\n",
       "    <tr>\n",
       "      <th>2</th>\n",
       "      <td>2</td>\n",
       "      <td>Not in universe</td>\n",
       "      <td>Children</td>\n",
       "      <td>0</td>\n",
       "      <td>Never married</td>\n",
       "      <td>Not in universe</td>\n",
       "      <td>White</td>\n",
       "      <td>Male</td>\n",
       "      <td>0</td>\n",
       "      <td>0</td>\n",
       "      <td>United-States</td>\n",
       "      <td>- 50000.</td>\n",
       "    </tr>\n",
       "    <tr>\n",
       "      <th>3</th>\n",
       "      <td>35</td>\n",
       "      <td>Private</td>\n",
       "      <td>High school graduate</td>\n",
       "      <td>0</td>\n",
       "      <td>Divorced</td>\n",
       "      <td>Executive admin and managerial</td>\n",
       "      <td>White</td>\n",
       "      <td>Female</td>\n",
       "      <td>0</td>\n",
       "      <td>0</td>\n",
       "      <td>United-States</td>\n",
       "      <td>- 50000.</td>\n",
       "    </tr>\n",
       "    <tr>\n",
       "      <th>4</th>\n",
       "      <td>49</td>\n",
       "      <td>Private</td>\n",
       "      <td>High school graduate</td>\n",
       "      <td>0</td>\n",
       "      <td>Divorced</td>\n",
       "      <td>Precision production craft &amp; repair</td>\n",
       "      <td>White</td>\n",
       "      <td>Male</td>\n",
       "      <td>0</td>\n",
       "      <td>0</td>\n",
       "      <td>United-States</td>\n",
       "      <td>- 50000.</td>\n",
       "    </tr>\n",
       "  </tbody>\n",
       "</table>\n",
       "</div>"
      ],
      "text/plain": [
       "   age                        workclass                             education  \\\n",
       "0   38                          Private              1st 2nd 3rd or 4th grade   \n",
       "1   44   Self-employed-not incorporated   Associates degree-occup /vocational   \n",
       "2    2                  Not in universe                              Children   \n",
       "3   35                          Private                  High school graduate   \n",
       "4   49                          Private                  High school graduate   \n",
       "\n",
       "   wage_per_hours                    marital_status  \\\n",
       "0               0   Married-civilian spouse present   \n",
       "1               0   Married-civilian spouse present   \n",
       "2               0                     Never married   \n",
       "3               0                          Divorced   \n",
       "4               0                          Divorced   \n",
       "\n",
       "                    major occupation code    race      sex  capital_gain  \\\n",
       "0   Machine operators assmblrs & inspctrs   White   Female             0   \n",
       "1                  Professional specialty   White   Female             0   \n",
       "2                         Not in universe   White     Male             0   \n",
       "3          Executive admin and managerial   White   Female             0   \n",
       "4     Precision production craft & repair   White     Male             0   \n",
       "\n",
       "   capital_loss         country     income  \n",
       "0             0          Mexico   - 50000.  \n",
       "1             0   United-States   - 50000.  \n",
       "2             0   United-States   - 50000.  \n",
       "3             0   United-States   - 50000.  \n",
       "4             0   United-States   - 50000.  "
      ]
     },
     "execution_count": 304,
     "metadata": {},
     "output_type": "execute_result"
    }
   ],
   "source": [
    "t1.head()"
   ]
  },
  {
   "cell_type": "code",
   "execution_count": 305,
   "metadata": {},
   "outputs": [
    {
     "data": {
      "text/html": [
       "<div>\n",
       "<style scoped>\n",
       "    .dataframe tbody tr th:only-of-type {\n",
       "        vertical-align: middle;\n",
       "    }\n",
       "\n",
       "    .dataframe tbody tr th {\n",
       "        vertical-align: top;\n",
       "    }\n",
       "\n",
       "    .dataframe thead th {\n",
       "        text-align: right;\n",
       "    }\n",
       "</style>\n",
       "<table border=\"1\" class=\"dataframe\">\n",
       "  <thead>\n",
       "    <tr style=\"text-align: right;\">\n",
       "      <th></th>\n",
       "      <th>age</th>\n",
       "      <th>workclass</th>\n",
       "      <th>education</th>\n",
       "      <th>wage_per_hours</th>\n",
       "      <th>marital_status</th>\n",
       "      <th>major occupation code</th>\n",
       "      <th>race</th>\n",
       "      <th>sex</th>\n",
       "      <th>capital_gain</th>\n",
       "      <th>capital_loss</th>\n",
       "      <th>country</th>\n",
       "      <th>income</th>\n",
       "    </tr>\n",
       "  </thead>\n",
       "  <tbody>\n",
       "    <tr>\n",
       "      <th>0</th>\n",
       "      <td>73</td>\n",
       "      <td>Not in universe</td>\n",
       "      <td>High school graduate</td>\n",
       "      <td>0</td>\n",
       "      <td>Widowed</td>\n",
       "      <td>Not in universe</td>\n",
       "      <td>White</td>\n",
       "      <td>Female</td>\n",
       "      <td>0</td>\n",
       "      <td>0</td>\n",
       "      <td>United-States</td>\n",
       "      <td>- 50000.</td>\n",
       "    </tr>\n",
       "    <tr>\n",
       "      <th>1</th>\n",
       "      <td>58</td>\n",
       "      <td>Self-employed-not incorporated</td>\n",
       "      <td>Some college but no degree</td>\n",
       "      <td>0</td>\n",
       "      <td>Divorced</td>\n",
       "      <td>Precision production craft &amp; repair</td>\n",
       "      <td>White</td>\n",
       "      <td>Male</td>\n",
       "      <td>0</td>\n",
       "      <td>0</td>\n",
       "      <td>United-States</td>\n",
       "      <td>- 50000.</td>\n",
       "    </tr>\n",
       "    <tr>\n",
       "      <th>2</th>\n",
       "      <td>18</td>\n",
       "      <td>Not in universe</td>\n",
       "      <td>10th grade</td>\n",
       "      <td>0</td>\n",
       "      <td>Never married</td>\n",
       "      <td>Not in universe</td>\n",
       "      <td>Asian or Pacific Islander</td>\n",
       "      <td>Female</td>\n",
       "      <td>0</td>\n",
       "      <td>0</td>\n",
       "      <td>Vietnam</td>\n",
       "      <td>- 50000.</td>\n",
       "    </tr>\n",
       "    <tr>\n",
       "      <th>3</th>\n",
       "      <td>9</td>\n",
       "      <td>Not in universe</td>\n",
       "      <td>Children</td>\n",
       "      <td>0</td>\n",
       "      <td>Never married</td>\n",
       "      <td>Not in universe</td>\n",
       "      <td>White</td>\n",
       "      <td>Female</td>\n",
       "      <td>0</td>\n",
       "      <td>0</td>\n",
       "      <td>United-States</td>\n",
       "      <td>- 50000.</td>\n",
       "    </tr>\n",
       "    <tr>\n",
       "      <th>4</th>\n",
       "      <td>10</td>\n",
       "      <td>Not in universe</td>\n",
       "      <td>Children</td>\n",
       "      <td>0</td>\n",
       "      <td>Never married</td>\n",
       "      <td>Not in universe</td>\n",
       "      <td>White</td>\n",
       "      <td>Female</td>\n",
       "      <td>0</td>\n",
       "      <td>0</td>\n",
       "      <td>United-States</td>\n",
       "      <td>- 50000.</td>\n",
       "    </tr>\n",
       "  </tbody>\n",
       "</table>\n",
       "</div>"
      ],
      "text/plain": [
       "   age                        workclass                    education  \\\n",
       "0   73                  Not in universe         High school graduate   \n",
       "1   58   Self-employed-not incorporated   Some college but no degree   \n",
       "2   18                  Not in universe                   10th grade   \n",
       "3    9                  Not in universe                     Children   \n",
       "4   10                  Not in universe                     Children   \n",
       "\n",
       "   wage_per_hours  marital_status                 major occupation code  \\\n",
       "0               0         Widowed                       Not in universe   \n",
       "1               0        Divorced   Precision production craft & repair   \n",
       "2               0   Never married                       Not in universe   \n",
       "3               0   Never married                       Not in universe   \n",
       "4               0   Never married                       Not in universe   \n",
       "\n",
       "                         race      sex  capital_gain  capital_loss  \\\n",
       "0                       White   Female             0             0   \n",
       "1                       White     Male             0             0   \n",
       "2   Asian or Pacific Islander   Female             0             0   \n",
       "3                       White   Female             0             0   \n",
       "4                       White   Female             0             0   \n",
       "\n",
       "          country     income  \n",
       "0   United-States   - 50000.  \n",
       "1   United-States   - 50000.  \n",
       "2         Vietnam   - 50000.  \n",
       "3   United-States   - 50000.  \n",
       "4   United-States   - 50000.  "
      ]
     },
     "execution_count": 305,
     "metadata": {},
     "output_type": "execute_result"
    }
   ],
   "source": [
    "d.head()"
   ]
  },
  {
   "cell_type": "code",
   "execution_count": 306,
   "metadata": {},
   "outputs": [
    {
     "name": "stdout",
     "output_type": "stream",
     "text": [
      "<class 'pandas.core.frame.DataFrame'>\n",
      "RangeIndex: 99762 entries, 0 to 99761\n",
      "Data columns (total 12 columns):\n",
      "age                      99762 non-null int64\n",
      "workclass                99762 non-null object\n",
      "education                99762 non-null object\n",
      "wage_per_hours           99762 non-null int64\n",
      "marital_status           99762 non-null object\n",
      "major occupation code    99762 non-null object\n",
      "race                     99762 non-null object\n",
      "sex                      99762 non-null object\n",
      "capital_gain             99762 non-null int64\n",
      "capital_loss             99762 non-null int64\n",
      "country                  99762 non-null object\n",
      "income                   99762 non-null object\n",
      "dtypes: int64(4), object(8)\n",
      "memory usage: 9.1+ MB\n"
     ]
    }
   ],
   "source": [
    "t1.info()"
   ]
  },
  {
   "cell_type": "code",
   "execution_count": 307,
   "metadata": {},
   "outputs": [
    {
     "name": "stdout",
     "output_type": "stream",
     "text": [
      "<class 'pandas.core.frame.DataFrame'>\n",
      "RangeIndex: 199523 entries, 0 to 199522\n",
      "Data columns (total 12 columns):\n",
      "age                      199523 non-null int64\n",
      "workclass                199523 non-null object\n",
      "education                199523 non-null object\n",
      "wage_per_hours           199523 non-null int64\n",
      "marital_status           199523 non-null object\n",
      "major occupation code    199523 non-null object\n",
      "race                     199523 non-null object\n",
      "sex                      199523 non-null object\n",
      "capital_gain             199523 non-null int64\n",
      "capital_loss             199523 non-null int64\n",
      "country                  199523 non-null object\n",
      "income                   199523 non-null object\n",
      "dtypes: int64(4), object(8)\n",
      "memory usage: 18.3+ MB\n"
     ]
    }
   ],
   "source": [
    "d.info()"
   ]
  },
  {
   "cell_type": "code",
   "execution_count": 308,
   "metadata": {},
   "outputs": [
    {
     "data": {
      "text/plain": [
       "age                      120288\n",
       "workclass                120288\n",
       "education                120288\n",
       "wage_per_hours           120288\n",
       "marital_status           120288\n",
       "major occupation code    120288\n",
       "race                     120288\n",
       "sex                      120288\n",
       "capital_gain             120288\n",
       "capital_loss             120288\n",
       "country                  120288\n",
       "income                   120288\n",
       "dtype: int64"
      ]
     },
     "execution_count": 308,
     "metadata": {},
     "output_type": "execute_result"
    }
   ],
   "source": [
    "d[d.duplicated()].count()"
   ]
  },
  {
   "cell_type": "code",
   "execution_count": 309,
   "metadata": {},
   "outputs": [
    {
     "data": {
      "text/plain": [
       "age                      54013\n",
       "workclass                54013\n",
       "education                54013\n",
       "wage_per_hours           54013\n",
       "marital_status           54013\n",
       "major occupation code    54013\n",
       "race                     54013\n",
       "sex                      54013\n",
       "capital_gain             54013\n",
       "capital_loss             54013\n",
       "country                  54013\n",
       "income                   54013\n",
       "dtype: int64"
      ]
     },
     "execution_count": 309,
     "metadata": {},
     "output_type": "execute_result"
    }
   ],
   "source": [
    "t1[t1.duplicated()].count()"
   ]
  },
  {
   "cell_type": "code",
   "execution_count": null,
   "metadata": {},
   "outputs": [],
   "source": []
  },
  {
   "cell_type": "code",
   "execution_count": 310,
   "metadata": {},
   "outputs": [],
   "source": [
    "d.drop_duplicates(inplace=True)"
   ]
  },
  {
   "cell_type": "code",
   "execution_count": 311,
   "metadata": {},
   "outputs": [],
   "source": [
    "t1.drop_duplicates(inplace=True)"
   ]
  },
  {
   "cell_type": "code",
   "execution_count": 312,
   "metadata": {},
   "outputs": [
    {
     "data": {
      "text/plain": [
       "age                      0\n",
       "workclass                0\n",
       "education                0\n",
       "wage_per_hours           0\n",
       "marital_status           0\n",
       "major occupation code    0\n",
       "race                     0\n",
       "sex                      0\n",
       "capital_gain             0\n",
       "capital_loss             0\n",
       "country                  0\n",
       "income                   0\n",
       "dtype: int64"
      ]
     },
     "execution_count": 312,
     "metadata": {},
     "output_type": "execute_result"
    }
   ],
   "source": [
    "d[d.duplicated()].count()"
   ]
  },
  {
   "cell_type": "code",
   "execution_count": 313,
   "metadata": {},
   "outputs": [],
   "source": [
    "df = pd.concat([d, t1], axis=0)"
   ]
  },
  {
   "cell_type": "code",
   "execution_count": 314,
   "metadata": {},
   "outputs": [
    {
     "data": {
      "text/plain": [
       "age                      15752\n",
       "workclass                15752\n",
       "education                15752\n",
       "wage_per_hours           15752\n",
       "marital_status           15752\n",
       "major occupation code    15752\n",
       "race                     15752\n",
       "sex                      15752\n",
       "capital_gain             15752\n",
       "capital_loss             15752\n",
       "country                  15752\n",
       "income                   15752\n",
       "dtype: int64"
      ]
     },
     "execution_count": 314,
     "metadata": {},
     "output_type": "execute_result"
    }
   ],
   "source": [
    "df[df.duplicated()].count()"
   ]
  },
  {
   "cell_type": "code",
   "execution_count": 315,
   "metadata": {},
   "outputs": [
    {
     "data": {
      "text/plain": [
       "age                      15752\n",
       "workclass                15752\n",
       "education                15752\n",
       "wage_per_hours           15752\n",
       "marital_status           15752\n",
       "major occupation code    15752\n",
       "race                     15752\n",
       "sex                      15752\n",
       "capital_gain             15752\n",
       "capital_loss             15752\n",
       "country                  15752\n",
       "income                   15752\n",
       "dtype: int64"
      ]
     },
     "execution_count": 315,
     "metadata": {},
     "output_type": "execute_result"
    }
   ],
   "source": [
    "df[df.duplicated()].count()"
   ]
  },
  {
   "cell_type": "code",
   "execution_count": null,
   "metadata": {},
   "outputs": [],
   "source": []
  },
  {
   "cell_type": "code",
   "execution_count": 316,
   "metadata": {},
   "outputs": [
    {
     "data": {
      "text/plain": [
       "array([' ?', ' Cambodia', ' Canada', ' China', ' Columbia', ' Cuba',\n",
       "       ' Dominican-Republic', ' Ecuador', ' El-Salvador', ' England',\n",
       "       ' France', ' Germany', ' Greece', ' Guatemala', ' Haiti',\n",
       "       ' Holand-Netherlands', ' Honduras', ' Hong Kong', ' Hungary',\n",
       "       ' India', ' Iran', ' Ireland', ' Italy', ' Jamaica', ' Japan',\n",
       "       ' Laos', ' Mexico', ' Nicaragua', ' Outlying-U S (Guam USVI etc)',\n",
       "       ' Panama', ' Peru', ' Philippines', ' Poland', ' Portugal',\n",
       "       ' Puerto-Rico', ' Scotland', ' South Korea', ' Taiwan',\n",
       "       ' Thailand', ' Trinadad&Tobago', ' United-States', ' Vietnam',\n",
       "       ' Yugoslavia'], dtype=object)"
      ]
     },
     "execution_count": 316,
     "metadata": {},
     "output_type": "execute_result"
    }
   ],
   "source": [
    "\n",
    "\n",
    "np.unique(df.country)"
   ]
  },
  {
   "cell_type": "code",
   "execution_count": 317,
   "metadata": {},
   "outputs": [],
   "source": [
    "df.drop_duplicates(inplace=True)"
   ]
  },
  {
   "cell_type": "code",
   "execution_count": 318,
   "metadata": {},
   "outputs": [],
   "source": [
    "df.replace(' ?', np.nan, inplace=True)"
   ]
  },
  {
   "cell_type": "code",
   "execution_count": 319,
   "metadata": {},
   "outputs": [],
   "source": [
    "df = pd.concat([df, pd.get_dummies(df['sex'],prefix='sex',prefix_sep=':')], axis=1)\n",
    "df.drop('sex',axis=1,inplace=True)"
   ]
  },
  {
   "cell_type": "code",
   "execution_count": 320,
   "metadata": {},
   "outputs": [
    {
     "data": {
      "text/html": [
       "<div>\n",
       "<style scoped>\n",
       "    .dataframe tbody tr th:only-of-type {\n",
       "        vertical-align: middle;\n",
       "    }\n",
       "\n",
       "    .dataframe tbody tr th {\n",
       "        vertical-align: top;\n",
       "    }\n",
       "\n",
       "    .dataframe thead th {\n",
       "        text-align: right;\n",
       "    }\n",
       "</style>\n",
       "<table border=\"1\" class=\"dataframe\">\n",
       "  <thead>\n",
       "    <tr style=\"text-align: right;\">\n",
       "      <th></th>\n",
       "      <th>age</th>\n",
       "      <th>workclass</th>\n",
       "      <th>education</th>\n",
       "      <th>wage_per_hours</th>\n",
       "      <th>marital_status</th>\n",
       "      <th>major occupation code</th>\n",
       "      <th>race</th>\n",
       "      <th>capital_gain</th>\n",
       "      <th>capital_loss</th>\n",
       "      <th>country</th>\n",
       "      <th>income</th>\n",
       "      <th>sex: Female</th>\n",
       "      <th>sex: Male</th>\n",
       "    </tr>\n",
       "  </thead>\n",
       "  <tbody>\n",
       "    <tr>\n",
       "      <th>0</th>\n",
       "      <td>73</td>\n",
       "      <td>Not in universe</td>\n",
       "      <td>High school graduate</td>\n",
       "      <td>0</td>\n",
       "      <td>Widowed</td>\n",
       "      <td>Not in universe</td>\n",
       "      <td>White</td>\n",
       "      <td>0</td>\n",
       "      <td>0</td>\n",
       "      <td>United-States</td>\n",
       "      <td>- 50000.</td>\n",
       "      <td>1</td>\n",
       "      <td>0</td>\n",
       "    </tr>\n",
       "    <tr>\n",
       "      <th>1</th>\n",
       "      <td>58</td>\n",
       "      <td>Self-employed-not incorporated</td>\n",
       "      <td>Some college but no degree</td>\n",
       "      <td>0</td>\n",
       "      <td>Divorced</td>\n",
       "      <td>Precision production craft &amp; repair</td>\n",
       "      <td>White</td>\n",
       "      <td>0</td>\n",
       "      <td>0</td>\n",
       "      <td>United-States</td>\n",
       "      <td>- 50000.</td>\n",
       "      <td>0</td>\n",
       "      <td>1</td>\n",
       "    </tr>\n",
       "    <tr>\n",
       "      <th>2</th>\n",
       "      <td>18</td>\n",
       "      <td>Not in universe</td>\n",
       "      <td>10th grade</td>\n",
       "      <td>0</td>\n",
       "      <td>Never married</td>\n",
       "      <td>Not in universe</td>\n",
       "      <td>Asian or Pacific Islander</td>\n",
       "      <td>0</td>\n",
       "      <td>0</td>\n",
       "      <td>Vietnam</td>\n",
       "      <td>- 50000.</td>\n",
       "      <td>1</td>\n",
       "      <td>0</td>\n",
       "    </tr>\n",
       "    <tr>\n",
       "      <th>3</th>\n",
       "      <td>9</td>\n",
       "      <td>Not in universe</td>\n",
       "      <td>Children</td>\n",
       "      <td>0</td>\n",
       "      <td>Never married</td>\n",
       "      <td>Not in universe</td>\n",
       "      <td>White</td>\n",
       "      <td>0</td>\n",
       "      <td>0</td>\n",
       "      <td>United-States</td>\n",
       "      <td>- 50000.</td>\n",
       "      <td>1</td>\n",
       "      <td>0</td>\n",
       "    </tr>\n",
       "    <tr>\n",
       "      <th>4</th>\n",
       "      <td>10</td>\n",
       "      <td>Not in universe</td>\n",
       "      <td>Children</td>\n",
       "      <td>0</td>\n",
       "      <td>Never married</td>\n",
       "      <td>Not in universe</td>\n",
       "      <td>White</td>\n",
       "      <td>0</td>\n",
       "      <td>0</td>\n",
       "      <td>United-States</td>\n",
       "      <td>- 50000.</td>\n",
       "      <td>1</td>\n",
       "      <td>0</td>\n",
       "    </tr>\n",
       "  </tbody>\n",
       "</table>\n",
       "</div>"
      ],
      "text/plain": [
       "   age                        workclass                    education  \\\n",
       "0   73                  Not in universe         High school graduate   \n",
       "1   58   Self-employed-not incorporated   Some college but no degree   \n",
       "2   18                  Not in universe                   10th grade   \n",
       "3    9                  Not in universe                     Children   \n",
       "4   10                  Not in universe                     Children   \n",
       "\n",
       "   wage_per_hours  marital_status                 major occupation code  \\\n",
       "0               0         Widowed                       Not in universe   \n",
       "1               0        Divorced   Precision production craft & repair   \n",
       "2               0   Never married                       Not in universe   \n",
       "3               0   Never married                       Not in universe   \n",
       "4               0   Never married                       Not in universe   \n",
       "\n",
       "                         race  capital_gain  capital_loss         country  \\\n",
       "0                       White             0             0   United-States   \n",
       "1                       White             0             0   United-States   \n",
       "2   Asian or Pacific Islander             0             0         Vietnam   \n",
       "3                       White             0             0   United-States   \n",
       "4                       White             0             0   United-States   \n",
       "\n",
       "      income  sex: Female  sex: Male  \n",
       "0   - 50000.            1          0  \n",
       "1   - 50000.            0          1  \n",
       "2   - 50000.            1          0  \n",
       "3   - 50000.            1          0  \n",
       "4   - 50000.            1          0  "
      ]
     },
     "execution_count": 320,
     "metadata": {},
     "output_type": "execute_result"
    }
   ],
   "source": [
    "df.head()"
   ]
  },
  {
   "cell_type": "code",
   "execution_count": 321,
   "metadata": {},
   "outputs": [],
   "source": [
    "df = pd.concat([df, pd.get_dummies(df['workclass'],prefix='workclass',prefix_sep=':')], axis=1)\n",
    "df.drop('workclass',axis=1,inplace=True)"
   ]
  },
  {
   "cell_type": "code",
   "execution_count": 322,
   "metadata": {},
   "outputs": [
    {
     "data": {
      "text/html": [
       "<div>\n",
       "<style scoped>\n",
       "    .dataframe tbody tr th:only-of-type {\n",
       "        vertical-align: middle;\n",
       "    }\n",
       "\n",
       "    .dataframe tbody tr th {\n",
       "        vertical-align: top;\n",
       "    }\n",
       "\n",
       "    .dataframe thead th {\n",
       "        text-align: right;\n",
       "    }\n",
       "</style>\n",
       "<table border=\"1\" class=\"dataframe\">\n",
       "  <thead>\n",
       "    <tr style=\"text-align: right;\">\n",
       "      <th></th>\n",
       "      <th>age</th>\n",
       "      <th>education</th>\n",
       "      <th>wage_per_hours</th>\n",
       "      <th>marital_status</th>\n",
       "      <th>major occupation code</th>\n",
       "      <th>race</th>\n",
       "      <th>capital_gain</th>\n",
       "      <th>capital_loss</th>\n",
       "      <th>country</th>\n",
       "      <th>income</th>\n",
       "      <th>...</th>\n",
       "      <th>sex: Male</th>\n",
       "      <th>workclass: Federal government</th>\n",
       "      <th>workclass: Local government</th>\n",
       "      <th>workclass: Never worked</th>\n",
       "      <th>workclass: Not in universe</th>\n",
       "      <th>workclass: Private</th>\n",
       "      <th>workclass: Self-employed-incorporated</th>\n",
       "      <th>workclass: Self-employed-not incorporated</th>\n",
       "      <th>workclass: State government</th>\n",
       "      <th>workclass: Without pay</th>\n",
       "    </tr>\n",
       "  </thead>\n",
       "  <tbody>\n",
       "    <tr>\n",
       "      <th>0</th>\n",
       "      <td>73</td>\n",
       "      <td>High school graduate</td>\n",
       "      <td>0</td>\n",
       "      <td>Widowed</td>\n",
       "      <td>Not in universe</td>\n",
       "      <td>White</td>\n",
       "      <td>0</td>\n",
       "      <td>0</td>\n",
       "      <td>United-States</td>\n",
       "      <td>- 50000.</td>\n",
       "      <td>...</td>\n",
       "      <td>0</td>\n",
       "      <td>0</td>\n",
       "      <td>0</td>\n",
       "      <td>0</td>\n",
       "      <td>1</td>\n",
       "      <td>0</td>\n",
       "      <td>0</td>\n",
       "      <td>0</td>\n",
       "      <td>0</td>\n",
       "      <td>0</td>\n",
       "    </tr>\n",
       "    <tr>\n",
       "      <th>1</th>\n",
       "      <td>58</td>\n",
       "      <td>Some college but no degree</td>\n",
       "      <td>0</td>\n",
       "      <td>Divorced</td>\n",
       "      <td>Precision production craft &amp; repair</td>\n",
       "      <td>White</td>\n",
       "      <td>0</td>\n",
       "      <td>0</td>\n",
       "      <td>United-States</td>\n",
       "      <td>- 50000.</td>\n",
       "      <td>...</td>\n",
       "      <td>1</td>\n",
       "      <td>0</td>\n",
       "      <td>0</td>\n",
       "      <td>0</td>\n",
       "      <td>0</td>\n",
       "      <td>0</td>\n",
       "      <td>0</td>\n",
       "      <td>1</td>\n",
       "      <td>0</td>\n",
       "      <td>0</td>\n",
       "    </tr>\n",
       "    <tr>\n",
       "      <th>2</th>\n",
       "      <td>18</td>\n",
       "      <td>10th grade</td>\n",
       "      <td>0</td>\n",
       "      <td>Never married</td>\n",
       "      <td>Not in universe</td>\n",
       "      <td>Asian or Pacific Islander</td>\n",
       "      <td>0</td>\n",
       "      <td>0</td>\n",
       "      <td>Vietnam</td>\n",
       "      <td>- 50000.</td>\n",
       "      <td>...</td>\n",
       "      <td>0</td>\n",
       "      <td>0</td>\n",
       "      <td>0</td>\n",
       "      <td>0</td>\n",
       "      <td>1</td>\n",
       "      <td>0</td>\n",
       "      <td>0</td>\n",
       "      <td>0</td>\n",
       "      <td>0</td>\n",
       "      <td>0</td>\n",
       "    </tr>\n",
       "    <tr>\n",
       "      <th>3</th>\n",
       "      <td>9</td>\n",
       "      <td>Children</td>\n",
       "      <td>0</td>\n",
       "      <td>Never married</td>\n",
       "      <td>Not in universe</td>\n",
       "      <td>White</td>\n",
       "      <td>0</td>\n",
       "      <td>0</td>\n",
       "      <td>United-States</td>\n",
       "      <td>- 50000.</td>\n",
       "      <td>...</td>\n",
       "      <td>0</td>\n",
       "      <td>0</td>\n",
       "      <td>0</td>\n",
       "      <td>0</td>\n",
       "      <td>1</td>\n",
       "      <td>0</td>\n",
       "      <td>0</td>\n",
       "      <td>0</td>\n",
       "      <td>0</td>\n",
       "      <td>0</td>\n",
       "    </tr>\n",
       "    <tr>\n",
       "      <th>4</th>\n",
       "      <td>10</td>\n",
       "      <td>Children</td>\n",
       "      <td>0</td>\n",
       "      <td>Never married</td>\n",
       "      <td>Not in universe</td>\n",
       "      <td>White</td>\n",
       "      <td>0</td>\n",
       "      <td>0</td>\n",
       "      <td>United-States</td>\n",
       "      <td>- 50000.</td>\n",
       "      <td>...</td>\n",
       "      <td>0</td>\n",
       "      <td>0</td>\n",
       "      <td>0</td>\n",
       "      <td>0</td>\n",
       "      <td>1</td>\n",
       "      <td>0</td>\n",
       "      <td>0</td>\n",
       "      <td>0</td>\n",
       "      <td>0</td>\n",
       "      <td>0</td>\n",
       "    </tr>\n",
       "  </tbody>\n",
       "</table>\n",
       "<p>5 rows × 21 columns</p>\n",
       "</div>"
      ],
      "text/plain": [
       "   age                    education  wage_per_hours  marital_status  \\\n",
       "0   73         High school graduate               0         Widowed   \n",
       "1   58   Some college but no degree               0        Divorced   \n",
       "2   18                   10th grade               0   Never married   \n",
       "3    9                     Children               0   Never married   \n",
       "4   10                     Children               0   Never married   \n",
       "\n",
       "                  major occupation code                        race  \\\n",
       "0                       Not in universe                       White   \n",
       "1   Precision production craft & repair                       White   \n",
       "2                       Not in universe   Asian or Pacific Islander   \n",
       "3                       Not in universe                       White   \n",
       "4                       Not in universe                       White   \n",
       "\n",
       "   capital_gain  capital_loss         country     income  ...  sex: Male  \\\n",
       "0             0             0   United-States   - 50000.  ...          0   \n",
       "1             0             0   United-States   - 50000.  ...          1   \n",
       "2             0             0         Vietnam   - 50000.  ...          0   \n",
       "3             0             0   United-States   - 50000.  ...          0   \n",
       "4             0             0   United-States   - 50000.  ...          0   \n",
       "\n",
       "   workclass: Federal government  workclass: Local government  \\\n",
       "0                              0                            0   \n",
       "1                              0                            0   \n",
       "2                              0                            0   \n",
       "3                              0                            0   \n",
       "4                              0                            0   \n",
       "\n",
       "   workclass: Never worked  workclass: Not in universe  workclass: Private  \\\n",
       "0                        0                           1                   0   \n",
       "1                        0                           0                   0   \n",
       "2                        0                           1                   0   \n",
       "3                        0                           1                   0   \n",
       "4                        0                           1                   0   \n",
       "\n",
       "   workclass: Self-employed-incorporated  \\\n",
       "0                                      0   \n",
       "1                                      0   \n",
       "2                                      0   \n",
       "3                                      0   \n",
       "4                                      0   \n",
       "\n",
       "   workclass: Self-employed-not incorporated  workclass: State government  \\\n",
       "0                                          0                            0   \n",
       "1                                          1                            0   \n",
       "2                                          0                            0   \n",
       "3                                          0                            0   \n",
       "4                                          0                            0   \n",
       "\n",
       "   workclass: Without pay  \n",
       "0                       0  \n",
       "1                       0  \n",
       "2                       0  \n",
       "3                       0  \n",
       "4                       0  \n",
       "\n",
       "[5 rows x 21 columns]"
      ]
     },
     "execution_count": 322,
     "metadata": {},
     "output_type": "execute_result"
    }
   ],
   "source": [
    "df.head()"
   ]
  },
  {
   "cell_type": "code",
   "execution_count": 323,
   "metadata": {},
   "outputs": [],
   "source": [
    "df = pd.concat([df, pd.get_dummies(df['education'],prefix='education',prefix_sep=':')], axis=1)\n",
    "df.drop('education',axis=1,inplace=True)"
   ]
  },
  {
   "cell_type": "code",
   "execution_count": 324,
   "metadata": {},
   "outputs": [],
   "source": [
    "df = pd.concat([df, pd.get_dummies(df['marital_status'],prefix='marital_status',prefix_sep=':')], axis=1)\n",
    "df.drop('marital_status',axis=1,inplace=True)\n"
   ]
  },
  {
   "cell_type": "code",
   "execution_count": 325,
   "metadata": {},
   "outputs": [],
   "source": [
    "df = pd.concat([df, pd.get_dummies(df['major occupation code'],prefix='major occupation code',prefix_sep=':')], axis=1)\n",
    "df.drop('major occupation code',axis=1,inplace=True)"
   ]
  },
  {
   "cell_type": "code",
   "execution_count": 326,
   "metadata": {},
   "outputs": [],
   "source": [
    "df = pd.concat([df, pd.get_dummies(df['race'],prefix='race',prefix_sep=':')], axis=1)\n",
    "df.drop('race',axis=1,inplace=True)\n"
   ]
  },
  {
   "cell_type": "code",
   "execution_count": 327,
   "metadata": {},
   "outputs": [],
   "source": [
    "copydf=df"
   ]
  },
  {
   "cell_type": "code",
   "execution_count": null,
   "metadata": {},
   "outputs": [],
   "source": []
  },
  {
   "cell_type": "code",
   "execution_count": null,
   "metadata": {},
   "outputs": [],
   "source": []
  },
  {
   "cell_type": "code",
   "execution_count": null,
   "metadata": {},
   "outputs": [],
   "source": []
  },
  {
   "cell_type": "code",
   "execution_count": 328,
   "metadata": {},
   "outputs": [
    {
     "data": {
      "text/html": [
       "<div>\n",
       "<style scoped>\n",
       "    .dataframe tbody tr th:only-of-type {\n",
       "        vertical-align: middle;\n",
       "    }\n",
       "\n",
       "    .dataframe tbody tr th {\n",
       "        vertical-align: top;\n",
       "    }\n",
       "\n",
       "    .dataframe thead th {\n",
       "        text-align: right;\n",
       "    }\n",
       "</style>\n",
       "<table border=\"1\" class=\"dataframe\">\n",
       "  <thead>\n",
       "    <tr style=\"text-align: right;\">\n",
       "      <th></th>\n",
       "      <th>age</th>\n",
       "      <th>wage_per_hours</th>\n",
       "      <th>capital_gain</th>\n",
       "      <th>capital_loss</th>\n",
       "      <th>income</th>\n",
       "      <th>sex: Female</th>\n",
       "      <th>sex: Male</th>\n",
       "      <th>workclass: Federal government</th>\n",
       "      <th>workclass: Local government</th>\n",
       "      <th>workclass: Never worked</th>\n",
       "      <th>...</th>\n",
       "      <th>country: Portugal</th>\n",
       "      <th>country: Puerto-Rico</th>\n",
       "      <th>country: Scotland</th>\n",
       "      <th>country: South Korea</th>\n",
       "      <th>country: Taiwan</th>\n",
       "      <th>country: Thailand</th>\n",
       "      <th>country: Trinadad&amp;Tobago</th>\n",
       "      <th>country: United-States</th>\n",
       "      <th>country: Vietnam</th>\n",
       "      <th>country: Yugoslavia</th>\n",
       "    </tr>\n",
       "  </thead>\n",
       "  <tbody>\n",
       "    <tr>\n",
       "      <th>0</th>\n",
       "      <td>73</td>\n",
       "      <td>0</td>\n",
       "      <td>0</td>\n",
       "      <td>0</td>\n",
       "      <td>- 50000.</td>\n",
       "      <td>1</td>\n",
       "      <td>0</td>\n",
       "      <td>0</td>\n",
       "      <td>0</td>\n",
       "      <td>0</td>\n",
       "      <td>...</td>\n",
       "      <td>0</td>\n",
       "      <td>0</td>\n",
       "      <td>0</td>\n",
       "      <td>0</td>\n",
       "      <td>0</td>\n",
       "      <td>0</td>\n",
       "      <td>0</td>\n",
       "      <td>1</td>\n",
       "      <td>0</td>\n",
       "      <td>0</td>\n",
       "    </tr>\n",
       "    <tr>\n",
       "      <th>1</th>\n",
       "      <td>58</td>\n",
       "      <td>0</td>\n",
       "      <td>0</td>\n",
       "      <td>0</td>\n",
       "      <td>- 50000.</td>\n",
       "      <td>0</td>\n",
       "      <td>1</td>\n",
       "      <td>0</td>\n",
       "      <td>0</td>\n",
       "      <td>0</td>\n",
       "      <td>...</td>\n",
       "      <td>0</td>\n",
       "      <td>0</td>\n",
       "      <td>0</td>\n",
       "      <td>0</td>\n",
       "      <td>0</td>\n",
       "      <td>0</td>\n",
       "      <td>0</td>\n",
       "      <td>1</td>\n",
       "      <td>0</td>\n",
       "      <td>0</td>\n",
       "    </tr>\n",
       "    <tr>\n",
       "      <th>2</th>\n",
       "      <td>18</td>\n",
       "      <td>0</td>\n",
       "      <td>0</td>\n",
       "      <td>0</td>\n",
       "      <td>- 50000.</td>\n",
       "      <td>1</td>\n",
       "      <td>0</td>\n",
       "      <td>0</td>\n",
       "      <td>0</td>\n",
       "      <td>0</td>\n",
       "      <td>...</td>\n",
       "      <td>0</td>\n",
       "      <td>0</td>\n",
       "      <td>0</td>\n",
       "      <td>0</td>\n",
       "      <td>0</td>\n",
       "      <td>0</td>\n",
       "      <td>0</td>\n",
       "      <td>0</td>\n",
       "      <td>1</td>\n",
       "      <td>0</td>\n",
       "    </tr>\n",
       "    <tr>\n",
       "      <th>3</th>\n",
       "      <td>9</td>\n",
       "      <td>0</td>\n",
       "      <td>0</td>\n",
       "      <td>0</td>\n",
       "      <td>- 50000.</td>\n",
       "      <td>1</td>\n",
       "      <td>0</td>\n",
       "      <td>0</td>\n",
       "      <td>0</td>\n",
       "      <td>0</td>\n",
       "      <td>...</td>\n",
       "      <td>0</td>\n",
       "      <td>0</td>\n",
       "      <td>0</td>\n",
       "      <td>0</td>\n",
       "      <td>0</td>\n",
       "      <td>0</td>\n",
       "      <td>0</td>\n",
       "      <td>1</td>\n",
       "      <td>0</td>\n",
       "      <td>0</td>\n",
       "    </tr>\n",
       "    <tr>\n",
       "      <th>4</th>\n",
       "      <td>10</td>\n",
       "      <td>0</td>\n",
       "      <td>0</td>\n",
       "      <td>0</td>\n",
       "      <td>- 50000.</td>\n",
       "      <td>1</td>\n",
       "      <td>0</td>\n",
       "      <td>0</td>\n",
       "      <td>0</td>\n",
       "      <td>0</td>\n",
       "      <td>...</td>\n",
       "      <td>0</td>\n",
       "      <td>0</td>\n",
       "      <td>0</td>\n",
       "      <td>0</td>\n",
       "      <td>0</td>\n",
       "      <td>0</td>\n",
       "      <td>0</td>\n",
       "      <td>1</td>\n",
       "      <td>0</td>\n",
       "      <td>0</td>\n",
       "    </tr>\n",
       "  </tbody>\n",
       "</table>\n",
       "<p>5 rows × 102 columns</p>\n",
       "</div>"
      ],
      "text/plain": [
       "   age  wage_per_hours  capital_gain  capital_loss     income  sex: Female  \\\n",
       "0   73               0             0             0   - 50000.            1   \n",
       "1   58               0             0             0   - 50000.            0   \n",
       "2   18               0             0             0   - 50000.            1   \n",
       "3    9               0             0             0   - 50000.            1   \n",
       "4   10               0             0             0   - 50000.            1   \n",
       "\n",
       "   sex: Male  workclass: Federal government  workclass: Local government  \\\n",
       "0          0                              0                            0   \n",
       "1          1                              0                            0   \n",
       "2          0                              0                            0   \n",
       "3          0                              0                            0   \n",
       "4          0                              0                            0   \n",
       "\n",
       "   workclass: Never worked  ...  country: Portugal  country: Puerto-Rico  \\\n",
       "0                        0  ...                  0                     0   \n",
       "1                        0  ...                  0                     0   \n",
       "2                        0  ...                  0                     0   \n",
       "3                        0  ...                  0                     0   \n",
       "4                        0  ...                  0                     0   \n",
       "\n",
       "   country: Scotland  country: South Korea  country: Taiwan  \\\n",
       "0                  0                     0                0   \n",
       "1                  0                     0                0   \n",
       "2                  0                     0                0   \n",
       "3                  0                     0                0   \n",
       "4                  0                     0                0   \n",
       "\n",
       "   country: Thailand  country: Trinadad&Tobago  country: United-States  \\\n",
       "0                  0                         0                       1   \n",
       "1                  0                         0                       1   \n",
       "2                  0                         0                       0   \n",
       "3                  0                         0                       1   \n",
       "4                  0                         0                       1   \n",
       "\n",
       "   country: Vietnam  country: Yugoslavia  \n",
       "0                 0                    0  \n",
       "1                 0                    0  \n",
       "2                 1                    0  \n",
       "3                 0                    0  \n",
       "4                 0                    0  \n",
       "\n",
       "[5 rows x 102 columns]"
      ]
     },
     "execution_count": 328,
     "metadata": {},
     "output_type": "execute_result"
    }
   ],
   "source": [
    "\n",
    "\n",
    "\n",
    "\n",
    "\n",
    "\n",
    "\n",
    "\n",
    "\n",
    "df = pd.concat([df, pd.get_dummies(df['country'],prefix='country',prefix_sep=':')], axis=1)\n",
    "df.drop('country',axis=1,inplace=True)\n",
    "\n",
    "\n",
    "\n",
    "df.head()"
   ]
  },
  {
   "cell_type": "code",
   "execution_count": 329,
   "metadata": {},
   "outputs": [
    {
     "data": {
      "text/plain": [
       "array([' - 50000.', ' 50000+.'], dtype=object)"
      ]
     },
     "execution_count": 329,
     "metadata": {},
     "output_type": "execute_result"
    }
   ],
   "source": [
    "np.unique(df['income'])"
   ]
  },
  {
   "cell_type": "code",
   "execution_count": 330,
   "metadata": {},
   "outputs": [],
   "source": [
    "inc =  df['income'].apply(lambda x : 0 if x==' - 50000.' else 1)"
   ]
  },
  {
   "cell_type": "code",
   "execution_count": 331,
   "metadata": {},
   "outputs": [],
   "source": [
    "x=df.drop('income',axis=1)\n"
   ]
  },
  {
   "cell_type": "code",
   "execution_count": 337,
   "metadata": {},
   "outputs": [],
   "source": [
    "y=inc"
   ]
  },
  {
   "cell_type": "code",
   "execution_count": 338,
   "metadata": {},
   "outputs": [
    {
     "data": {
      "text/plain": [
       "(109232, 101)"
      ]
     },
     "execution_count": 338,
     "metadata": {},
     "output_type": "execute_result"
    }
   ],
   "source": [
    "x.shape"
   ]
  },
  {
   "cell_type": "code",
   "execution_count": 339,
   "metadata": {},
   "outputs": [
    {
     "data": {
      "text/plain": [
       "array([0, 1])"
      ]
     },
     "execution_count": 339,
     "metadata": {},
     "output_type": "execute_result"
    }
   ],
   "source": [
    "np.unique(y)"
   ]
  },
  {
   "cell_type": "code",
   "execution_count": 340,
   "metadata": {},
   "outputs": [],
   "source": [
    "from keras.utils import np_utils\n",
    "from keras.models import Sequential\n",
    "from keras.optimizers import SGD\n",
    "from keras.layers import Dense\n",
    "from keras.losses import categorical_crossentropy\n",
    "from keras.metrics import categorical_accuracy, mean_absolute_error, mse\n",
    "from keras.optimizers import Adam\n",
    "from sklearn.preprocessing import StandardScaler"
   ]
  },
  {
   "cell_type": "code",
   "execution_count": 341,
   "metadata": {},
   "outputs": [],
   "source": [
    "model = Sequential()\n",
    "model.add(Dense(12, input_dim=101, activation='relu'))\n",
    "model.add(Dense(101, activation='relu'))\n",
    "model.add(Dense(1, activation='sigmoid'))\n",
    "model.compile(loss='binary_crossentropy', optimizer='adam', metrics=['accuracy'])"
   ]
  },
  {
   "cell_type": "code",
   "execution_count": 342,
   "metadata": {},
   "outputs": [
    {
     "name": "stdout",
     "output_type": "stream",
     "text": [
      "Epoch 1/10\n",
      "109232/109232 [==============================] - 18s 166us/step - loss: 0.4932 - accuracy: 0.8758\n",
      "Epoch 2/10\n",
      "109232/109232 [==============================] - 18s 165us/step - loss: 0.2865 - accuracy: 0.8789\n",
      "Epoch 3/10\n",
      "109232/109232 [==============================] - 18s 160us/step - loss: 0.2826 - accuracy: 0.8800\n",
      "Epoch 4/10\n",
      "109232/109232 [==============================] - 18s 163us/step - loss: 0.2856 - accuracy: 0.8821\n",
      "Epoch 5/10\n",
      "109232/109232 [==============================] - 18s 169us/step - loss: 0.2885 - accuracy: 0.8799\n",
      "Epoch 6/10\n",
      "109232/109232 [==============================] - 18s 162us/step - loss: 0.2835 - accuracy: 0.8815\n",
      "Epoch 7/10\n",
      "109232/109232 [==============================] - 18s 165us/step - loss: 0.2883 - accuracy: 0.8840\n",
      "Epoch 8/10\n",
      "109232/109232 [==============================] - 18s 167us/step - loss: 0.2790 - accuracy: 0.8844\n",
      "Epoch 9/10\n",
      "109232/109232 [==============================] - 17s 151us/step - loss: 0.2812 - accuracy: 0.8819\n",
      "Epoch 10/10\n",
      "109232/109232 [==============================] - 18s 166us/step - loss: 0.2756 - accuracy: 0.8907\n"
     ]
    },
    {
     "data": {
      "text/plain": [
       "<keras.callbacks.callbacks.History at 0x7f5da81b7c10>"
      ]
     },
     "execution_count": 342,
     "metadata": {},
     "output_type": "execute_result"
    }
   ],
   "source": [
    "model.fit(x, y, epochs=24, batch_size=10)"
   ]
  },
  {
   "cell_type": "code",
   "execution_count": 201,
   "metadata": {},
   "outputs": [],
   "source": []
  },
  {
   "cell_type": "code",
   "execution_count": 279,
   "metadata": {},
   "outputs": [],
   "source": [
    "lu=x.columns"
   ]
  },
  {
   "cell_type": "code",
   "execution_count": null,
   "metadata": {},
   "outputs": [],
   "source": [
    "\n"
   ]
  },
  {
   "cell_type": "code",
   "execution_count": null,
   "metadata": {},
   "outputs": [],
   "source": [
    "from sklearn.cluster import KMeans"
   ]
  },
  {
   "cell_type": "code",
   "execution_count": null,
   "metadata": {},
   "outputs": [],
   "source": [
    "model = KMeans()"
   ]
  },
  {
   "cell_type": "code",
   "execution_count": null,
   "metadata": {},
   "outputs": [],
   "source": [
    "x=x.astype(\"float\")"
   ]
  },
  {
   "cell_type": "raw",
   "metadata": {},
   "source": [
    "x.isin([-5000.]).any()"
   ]
  },
  {
   "cell_type": "code",
   "execution_count": 274,
   "metadata": {},
   "outputs": [],
   "source": [
    "k=np.unique(x)"
   ]
  },
  {
   "cell_type": "code",
   "execution_count": 275,
   "metadata": {},
   "outputs": [
    {
     "data": {
      "text/plain": [
       "1689"
      ]
     },
     "execution_count": 275,
     "metadata": {},
     "output_type": "execute_result"
    }
   ],
   "source": []
  },
  {
   "cell_type": "code",
   "execution_count": 277,
   "metadata": {},
   "outputs": [
    {
     "data": {
      "text/plain": [
       "KMeans(algorithm='auto', copy_x=True, init='k-means++', max_iter=300,\n",
       "       n_clusters=8, n_init=10, n_jobs=None, precompute_distances='auto',\n",
       "       random_state=None, tol=0.0001, verbose=0)"
      ]
     },
     "execution_count": 277,
     "metadata": {},
     "output_type": "execute_result"
    }
   ],
   "source": [
    "\n",
    "\n",
    "\n",
    "model.fit(x)\n",
    "\n",
    "\n"
   ]
  },
  {
   "cell_type": "code",
   "execution_count": 345,
   "metadata": {},
   "outputs": [],
   "source": [
    "df=df.drop('income',axis=1)"
   ]
  },
  {
   "cell_type": "code",
   "execution_count": null,
   "metadata": {},
   "outputs": [],
   "source": [
    "import matplotlib.pyplot as plt\n",
    "Nc = range(1, 20)\n",
    "kmeans = [KMeans(n_clusters=i) for i in Nc]\n",
    "score = [kmeans[i].fit(df).score(df) for i in range(len(kmeans))]\n",
    "plt.plot(Nc,score)\n",
    "plt.xlabel('Number of Clusters')\n",
    "plt.ylabel('Score')\n",
    "plt.title('Elbow Curve')\n",
    "plt.show()"
   ]
  },
  {
   "cell_type": "code",
   "execution_count": null,
   "metadata": {},
   "outputs": [],
   "source": []
  }
 ],
 "metadata": {
  "kernelspec": {
   "display_name": "Python 3",
   "language": "python",
   "name": "python3"
  },
  "language_info": {
   "codemirror_mode": {
    "name": "ipython",
    "version": 3
   },
   "file_extension": ".py",
   "mimetype": "text/x-python",
   "name": "python",
   "nbconvert_exporter": "python",
   "pygments_lexer": "ipython3",
   "version": "3.7.4"
  }
 },
 "nbformat": 4,
 "nbformat_minor": 2
}
